{
 "cells": [
  {
   "cell_type": "markdown",
   "id": "71c62b1c24c797ef",
   "metadata": {
    "id": "71c62b1c24c797ef"
   },
   "source": "請先在這裡定義 `n_pkt` 及 `m_byte` 分別為多少"
  },
  {
   "cell_type": "code",
   "id": "957c8012551dc9a1",
   "metadata": {
    "id": "957c8012551dc9a1"
   },
   "source": [
    "# 圖片大小\n",
    "n_pkts = 7\n",
    "m_bytes = 100\n",
    "\n",
    "# 模型訓練參數\n",
    "EPOCHS = 10\n",
    "BatchSize = 256\n",
    "Learning_Rate = 1e-4"
   ],
   "outputs": [],
   "execution_count": null
  },
  {
   "cell_type": "markdown",
   "id": "3662d212c4ca765e",
   "metadata": {
    "id": "3662d212c4ca765e"
   },
   "source": [
    "圖片分類載入"
   ]
  },
  {
   "cell_type": "code",
   "id": "c5f3e757c8477e02",
   "metadata": {
    "colab": {
     "base_uri": "https://localhost:8080/"
    },
    "id": "c5f3e757c8477e02",
    "outputId": "79d43883-a1d9-4907-8d23-9da0d63ce135"
   },
   "source": [
    "# 直接切換 NoteBook 的工作目錄，使用 !cd 只會切換終端機的\n",
    "%cd /home/jinting/Desktop/fcu_topic/USTC-II\n",
    "!pwd\n",
    "!make\n",
    "!./Convert_All_Flow_Ver_Colab.sh -2 /home/jinting/Desktop/2_Flow_Top_10000/2_Flow ../../DataSet {n_pkts}\\\n",
    "{m_bytes}\n",
    "%cd ../../"
   ],
   "outputs": [],
   "execution_count": null
  },
  {
   "metadata": {},
   "cell_type": "code",
   "source": "%cd /home/jinting/Desktop/",
   "id": "7bc05615384c52af",
   "outputs": [],
   "execution_count": null
  },
  {
   "cell_type": "markdown",
   "id": "d4313b91",
   "metadata": {
    "id": "d4313b91"
   },
   "source": [
    "# Flow 圖片分類模型\n",
    "n 個 CNN + 1 個 LSTM，將 n 張 PNG 圖輸入至 CNN，然後輸出序列送入 LSTM\n",
    "分類為 26 類流量"
   ]
  },
  {
   "cell_type": "markdown",
   "id": "62804d52",
   "metadata": {
    "id": "62804d52"
   },
   "source": [
    "## 1. 解壓縮＆資料集定義"
   ]
  },
  {
   "cell_type": "code",
   "id": "5827d507",
   "metadata": {
    "colab": {
     "base_uri": "https://localhost:8080/",
     "height": 356
    },
    "id": "5827d507",
    "outputId": "1dca0468-e928-41a6-b670-47f581bf56e6"
   },
   "source": [
    "import os\n",
    "import torch\n",
    "import torch.nn as nn\n",
    "import torch.optim as optim\n",
    "import torchvision.transforms as transforms\n",
    "from torch.utils.data import Dataset, DataLoader\n",
    "from torch.optim.lr_scheduler import ReduceLROnPlateau\n",
    "import matplotlib.pyplot as plt\n",
    "import seaborn as sns\n",
    "from sklearn.metrics import confusion_matrix, ConfusionMatrixDisplay\n",
    "from pathlib import Path\n",
    "from PIL import Image"
   ],
   "outputs": [],
   "execution_count": null
  },
  {
   "cell_type": "code",
   "id": "22_oI8g1w-CP",
   "metadata": {
    "id": "22_oI8g1w-CP"
   },
   "source": [
    "# 建立 Dataset\n",
    "class FlowDataset(Dataset):\n",
    "    def __init__(self, root_dir, transform=None):\n",
    "        self.samples = []\n",
    "        self.class_map = {}\n",
    "        self.transform = transform\n",
    "        label_dirs = sorted(os.listdir(root_dir))\n",
    "\n",
    "        for idx, label_name in enumerate(label_dirs):\n",
    "            label_path = os.path.join(root_dir, label_name)\n",
    "            if not os.path.isdir(label_path):\n",
    "                continue\n",
    "            self.class_map[label_name] = idx\n",
    "            for session_folder in os.listdir(label_path):\n",
    "                session_path = os.path.join(label_path, session_folder)\n",
    "                if not os.path.isdir(session_path):\n",
    "                    continue\n",
    "                imgs = [os.path.join(session_path, f\"{i}.png\") for i in range(n_pkts)]\n",
    "                if all(os.path.exists(p) for p in imgs):\n",
    "                    self.samples.append((imgs, idx))\n",
    "\n",
    "    def __len__(self):\n",
    "        return len(self.samples)\n",
    "\n",
    "    def __getitem__(self, idx):\n",
    "        img_paths, label = self.samples[idx]\n",
    "        imgs = [Image.open(p).convert('L') for p in img_paths]\n",
    "        if self.transform:\n",
    "            imgs = [self.transform(im) for im in imgs]\n",
    "        imgs = torch.stack(imgs)\n",
    "        return imgs, label\n",
    "\n",
    "transform = transforms.Compose([\n",
    "    transforms.Resize((64, 64)),\n",
    "    transforms.ToTensor(),  # 自動變成 shape: (1, 64, 64)\n",
    "])\n",
    "\n",
    "dataset = FlowDataset(os.path.join(\"./DataSet\"), transform = transform)\n",
    "train_size = int(0.8 * len(dataset))\n",
    "test_size = len(dataset) - train_size\n",
    "train_set, test_set = torch.utils.data.random_split(dataset, [train_size, test_size])\n",
    "# 增加 workers 增加 Process 先將資料處理放到 RAM 中，使 GPU 載入資料速度變快，減少閒置\n",
    "# 不過調整 workers 的數量可以在 GPU 的處理速度以及 RAM 的使用量中取得平衡\n",
    "train_loader = DataLoader(train_set, batch_size = BatchSize, shuffle = True, num_workers = 4)\n",
    "test_loader = DataLoader(test_set, batch_size = BatchSize, num_workers = 8)"
   ],
   "outputs": [],
   "execution_count": null
  },
  {
   "cell_type": "markdown",
   "id": "ba8520da",
   "metadata": {
    "id": "ba8520da"
   },
   "source": "## 2. 模型定義：n 個 CNN + LSTM"
  },
  {
   "cell_type": "code",
   "id": "907fd415",
   "metadata": {
    "id": "907fd415"
   },
   "source": [
    "class SimpleCNN(nn.Module):\n",
    "    def __init__(self):\n",
    "        super().__init__()\n",
    "        self.features = nn.Sequential(\n",
    "            nn.Conv2d(1,32,3,1,1), nn.ReLU(), nn.MaxPool2d(2),\n",
    "            nn.Conv2d(32,64,3,1,1), nn.ReLU(), nn.MaxPool2d(2)\n",
    "        )\n",
    "        self.fc = nn.Linear(64*16*16, 128)\n",
    "    def forward(self, x):\n",
    "        x = self.features(x)\n",
    "        x = x.view(x.size(0), -1)\n",
    "        return self.fc(x)\n",
    "\n",
    "class CNN_LSTM(nn.Module):\n",
    "    def __init__(self, num_classes=26):\n",
    "        super().__init__()\n",
    "        self.cnns = nn.ModuleList([SimpleCNN() for _ in range(n_pkts)])\n",
    "        self.lstm = nn.LSTM(input_size = 128, hidden_size = 64, batch_first = True)\n",
    "        self.classifier = nn.Linear(64, num_classes)\n",
    "\n",
    "    def forward(self, x):\n",
    "        B = x.size(0)\n",
    "        outs = []\n",
    "        for i in range(n_pkts):\n",
    "            outs.append(self.cnns[i](x[:,i]))\n",
    "        seq = torch.stack(outs, dim=1)\n",
    "        lstm_out, _ = self.lstm(seq)\n",
    "        final = lstm_out[:, -1, :]\n",
    "        return self.classifier(final)\n",
    "\n",
    "device = torch.device('cuda' if torch.cuda.is_available() else 'cpu')\n",
    "model = CNN_LSTM().to(device)\n",
    "criterion = nn.CrossEntropyLoss()\n",
    "optimizer = optim.Adam(model.parameters(), lr = Learning_Rate)\n",
    "\n",
    "# 調整使用 ReduceLROnPlateau，當 LRate 超過 2 epoch (patience) 不再下降，就 x 0.1 (factor)\n",
    "scheduler = ReduceLROnPlateau(optimizer, mode = 'min', factor = 0.1, patience = 2)"
   ],
   "outputs": [],
   "execution_count": null
  },
  {
   "cell_type": "markdown",
   "id": "d901002b",
   "metadata": {
    "id": "d901002b"
   },
   "source": [
    "## 3. 訓練 & 測試函式"
   ]
  },
  {
   "cell_type": "code",
   "id": "1f64500e",
   "metadata": {
    "id": "1f64500e"
   },
   "source": [
    "def train_epoch(loader):\n",
    "    model.train()\n",
    "    total_loss = 0\n",
    "    total_correct = 0\n",
    "    for imgs, labels in loader:\n",
    "        imgs, labels = imgs.to(device), labels.to(device)\n",
    "        optimizer.zero_grad()\n",
    "        outputs = model(imgs)\n",
    "        loss = criterion(outputs, labels)\n",
    "        loss.backward()\n",
    "        optimizer.step()\n",
    "        total_loss += loss.item() * imgs.size(0)\n",
    "        total_correct += (outputs.argmax(1)==labels).sum().item()\n",
    "    return total_loss/len(loader.dataset), total_correct/len(loader.dataset)\n",
    "\n",
    "def eval_model(loader):\n",
    "    model.eval()\n",
    "    total_loss = 0\n",
    "    total_correct = 0\n",
    "    all_preds, all_labels = [], []\n",
    "    with torch.no_grad():\n",
    "        for imgs, labels in loader:\n",
    "            imgs, labels = imgs.to(device), labels.to(device)\n",
    "            outputs = model(imgs)\n",
    "            loss = criterion(outputs, labels)\n",
    "            total_loss += loss.item()*imgs.size(0)\n",
    "            preds = outputs.argmax(1)\n",
    "            total_correct += (preds == labels).sum().item()\n",
    "            all_preds.extend(preds.cpu().numpy())\n",
    "            all_labels.extend(labels.cpu().numpy())\n",
    "    return total_loss/len(loader.dataset), total_correct/len(loader.dataset), all_preds, all_labels"
   ],
   "outputs": [],
   "execution_count": null
  },
  {
   "cell_type": "markdown",
   "id": "14a1088d",
   "metadata": {
    "id": "14a1088d"
   },
   "source": [
    "## 4. 開始訓練"
   ]
  },
  {
   "cell_type": "code",
   "id": "34070aa9",
   "metadata": {
    "id": "34070aa9"
   },
   "source": [
    "train_losses, train_accs = [], []\n",
    "test_losses, test_accs = [], []\n",
    "best_acc = 0\n",
    "for ep in range(1, EPOCHS+1):\n",
    "    tl, ta = train_epoch(train_loader)\n",
    "    vl, va, _, _ = eval_model(test_loader)\n",
    "    train_losses.append(tl); train_accs.append(ta)\n",
    "    test_losses.append(vl); test_accs.append(va)\n",
    "    scheduler.step(vl) # 根據 val_loss 來調整 LRate\n",
    "    current_lr = optimizer.param_groups[0]['lr']\n",
    "    print(f\"Epoch {ep}, train_loss={tl:.4f}, train_acc={ta:.4f}, test_acc={va:.4f}, now_lr={current_lr:.6f}\")\n",
    "    if va > best_acc:\n",
    "        best_acc = va\n",
    "        torch.save(model.state_dict(), 'best_model.pth')"
   ],
   "outputs": [],
   "execution_count": null
  },
  {
   "cell_type": "markdown",
   "id": "bebcb0e3",
   "metadata": {
    "id": "bebcb0e3"
   },
   "source": [
    "## 5. 繪圖與混淆矩陣"
   ]
  },
  {
   "cell_type": "code",
   "id": "b749c2ae",
   "metadata": {
    "id": "b749c2ae"
   },
   "source": [
    "# Loss & Accuracy 圖\n",
    "plt.figure(figsize=(12,5))\n",
    "plt.subplot(1,2,1)\n",
    "plt.plot(train_losses, label='Train Loss')\n",
    "plt.plot(test_losses, label='Test Loss')\n",
    "plt.legend(); plt.title('Loss')\n",
    "plt.subplot(1,2,2)\n",
    "plt.plot(train_accs, label='Train Acc')\n",
    "plt.plot(test_accs, label='Test Acc')\n",
    "plt.legend(); plt.title('Accuracy')\n",
    "plt.show()\n",
    "\n",
    "# 混淆矩陣\n",
    "_,_, preds, trues = eval_model(test_loader)\n",
    "cm = confusion_matrix(trues, preds)\n",
    "disp = ConfusionMatrixDisplay(cm)\n",
    "sns.heatmap(cm, annot=True, fmt='d', cmap='Blues')\n",
    "fig, ax = plt.subplots(figsize=(21,21))\n",
    "disp.plot(ax=ax, xticks_rotation=90)\n",
    "plt.show()\n",
    "\n",
    "_,_, preds, trues = eval_model(test_loader)\n",
    "cm = confusion_matrix(trues, preds)\n",
    "plt.figure(figsize=(20, 9))\n",
    "sns.heatmap(cm, annot=True, fmt='d', cmap='Blues')\n",
    "plt.xlabel('Predicted Label')\n",
    "plt.ylabel('True Label')\n",
    "plt.show()"
   ],
   "outputs": [],
   "execution_count": null
  },
  {
   "cell_type": "code",
   "id": "f8b56098",
   "metadata": {
    "id": "f8b56098"
   },
   "source": [
    "# 儲存模型到本地中\n",
    "save_path = Path(f\"./HAST-IDS-DataSet-Model/n{n_pkts}_m{m_bytes}_denoise\")\n",
    "save_path.mkdir(parents=True, exist_ok=True)\n",
    "\n",
    "torch.save(model.state_dict(), f\"{save_path}/cnn_lstm_hast_model_n{n_pkts}_m{m_bytes}.pth\")\n",
    "torch.save(model, f\"{save_path}/cnn_lstm_complete_model_n{n_pkts}_m{m_bytes}.pth\")"
   ],
   "outputs": [],
   "execution_count": null
  },
  {
   "metadata": {},
   "cell_type": "markdown",
   "source": "> [!note] 程式執行結束後，目前上面的混淆矩陣以及 notebook 並未存檔，如有需要，請自行存檔。",
   "id": "4f14cad5a0e80d58"
  }
 ],
 "metadata": {
  "colab": {
   "provenance": []
  },
  "kernelspec": {
   "display_name": "Python 3",
   "name": "python3"
  },
  "language_info": {
   "name": "python"
  }
 },
 "nbformat": 4,
 "nbformat_minor": 5
}
